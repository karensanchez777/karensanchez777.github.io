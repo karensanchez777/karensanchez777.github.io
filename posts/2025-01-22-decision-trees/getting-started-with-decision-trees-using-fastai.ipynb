{
 "cells": [
  {
   "cell_type": "raw",
   "id": "852423d5-8071-4bea-8b01-f9e5c77ad938",
   "metadata": {},
   "source": [
    "---\n",
    "title: \"Getting Started with Decision Trees Using fastai\"\n",
    "description: \"I show you how to use fastai's tabular module and scikit-library to train a decision tree\"\n",
    "author: \"Karen Sánchez\"\n",
    "date: \"1/22/2025\"\n",
    "image: \"img.jpg\"\n",
    "categories: [Time Series, Decision Trees, Random Forests, Kaggle, fastai, scikit-learn]\n",
    "---"
   ]
  },
  {
   "cell_type": "markdown",
   "id": "a87daa10-e773-435b-87a0-2e2af8baa4be",
   "metadata": {},
   "source": [
    "# Getting Started with Decision Trees Using fastai\n",
    "\n",
    "In this ocassion I want to share with you what I've learned in fast.ai's Lesson 6 and chapter 9 of the book of the same course. Turns out, I'm learning about decision trees. Thus, I think that this competition is an excelent opportunity to put in practice my knowledge. \n",
    "\n",
    "Let's begin by downloading the data. The following code block determines whether you're working in a Kaggle notebook or locally. If you're working locally, you'll need to use the Kaggle API. If you're unfamiliar with it, here's [a walkthrough on how to use the Kaggle API](https://karensanchez777.github.io/posts/2025-01-19-kaggle-api/learning-to-use-kaggle-api.html)."
   ]
  },
  {
   "cell_type": "code",
   "execution_count": 1,
   "id": "77dea219-aa7f-4e9e-ae52-1a365c90c411",
   "metadata": {},
   "outputs": [],
   "source": [
    "import os\n",
    "from pathlib import Path\n",
    "\n",
    "iskaggle = os.environ.get('KAGGLE_KERNEL_RUN_TYPE', '')\n",
    "if iskaggle: path = Path('../input/playground-series-s5e1')\n",
    "else:\n",
    "    path = Path('playground-series-s5e1')\n",
    "    if not path.exists():\n",
    "        import zipfile,kaggle\n",
    "        kaggle.api.competition_download_cli(str(path))\n",
    "        zipfile.ZipFile(f'{path}.zip').extractall(path)"
   ]
  },
  {
   "cell_type": "markdown",
   "id": "e1f3fec0-4710-42ff-9227-b96780d3ef4a",
   "metadata": {},
   "source": [
    "Import the module of fastai dedicated to tabular data. It already includes the pandas and numpy libraries, so we don't need to import them."
   ]
  },
  {
   "cell_type": "code",
   "execution_count": 2,
   "id": "d672bef2-59df-4292-aa3e-b8e7ad3e0938",
   "metadata": {},
   "outputs": [
    {
     "data": {
      "text/html": [
       "<div>\n",
       "<style scoped>\n",
       "    .dataframe tbody tr th:only-of-type {\n",
       "        vertical-align: middle;\n",
       "    }\n",
       "\n",
       "    .dataframe tbody tr th {\n",
       "        vertical-align: top;\n",
       "    }\n",
       "\n",
       "    .dataframe thead th {\n",
       "        text-align: right;\n",
       "    }\n",
       "</style>\n",
       "<table border=\"1\" class=\"dataframe\">\n",
       "  <thead>\n",
       "    <tr style=\"text-align: right;\">\n",
       "      <th></th>\n",
       "      <th>id</th>\n",
       "      <th>date</th>\n",
       "      <th>country</th>\n",
       "      <th>store</th>\n",
       "      <th>product</th>\n",
       "      <th>num_sold</th>\n",
       "    </tr>\n",
       "  </thead>\n",
       "  <tbody>\n",
       "    <tr>\n",
       "      <th>0</th>\n",
       "      <td>0</td>\n",
       "      <td>2010-01-01</td>\n",
       "      <td>Canada</td>\n",
       "      <td>Discount Stickers</td>\n",
       "      <td>Holographic Goose</td>\n",
       "      <td>NaN</td>\n",
       "    </tr>\n",
       "    <tr>\n",
       "      <th>1</th>\n",
       "      <td>1</td>\n",
       "      <td>2010-01-01</td>\n",
       "      <td>Canada</td>\n",
       "      <td>Discount Stickers</td>\n",
       "      <td>Kaggle</td>\n",
       "      <td>973.0</td>\n",
       "    </tr>\n",
       "    <tr>\n",
       "      <th>2</th>\n",
       "      <td>2</td>\n",
       "      <td>2010-01-01</td>\n",
       "      <td>Canada</td>\n",
       "      <td>Discount Stickers</td>\n",
       "      <td>Kaggle Tiers</td>\n",
       "      <td>906.0</td>\n",
       "    </tr>\n",
       "    <tr>\n",
       "      <th>3</th>\n",
       "      <td>3</td>\n",
       "      <td>2010-01-01</td>\n",
       "      <td>Canada</td>\n",
       "      <td>Discount Stickers</td>\n",
       "      <td>Kerneler</td>\n",
       "      <td>423.0</td>\n",
       "    </tr>\n",
       "    <tr>\n",
       "      <th>4</th>\n",
       "      <td>4</td>\n",
       "      <td>2010-01-01</td>\n",
       "      <td>Canada</td>\n",
       "      <td>Discount Stickers</td>\n",
       "      <td>Kerneler Dark Mode</td>\n",
       "      <td>491.0</td>\n",
       "    </tr>\n",
       "  </tbody>\n",
       "</table>\n",
       "</div>"
      ],
      "text/plain": [
       "   id        date country              store             product  num_sold\n",
       "0   0  2010-01-01  Canada  Discount Stickers   Holographic Goose       NaN\n",
       "1   1  2010-01-01  Canada  Discount Stickers              Kaggle     973.0\n",
       "2   2  2010-01-01  Canada  Discount Stickers        Kaggle Tiers     906.0\n",
       "3   3  2010-01-01  Canada  Discount Stickers            Kerneler     423.0\n",
       "4   4  2010-01-01  Canada  Discount Stickers  Kerneler Dark Mode     491.0"
      ]
     },
     "execution_count": 2,
     "metadata": {},
     "output_type": "execute_result"
    }
   ],
   "source": [
    "from fastai.tabular.all import *\n",
    "\n",
    "df = pd.read_csv(path/'train.csv')\n",
    "df.head()"
   ]
  },
  {
   "cell_type": "code",
   "execution_count": 3,
   "id": "1f9d92b5-cb9c-4334-b425-fa023aa1a0d7",
   "metadata": {},
   "outputs": [],
   "source": [
    "df_test = pd.read_csv(path/'test.csv')"
   ]
  },
  {
   "cell_type": "code",
   "execution_count": 4,
   "id": "73b63c74-767e-495b-83a4-9ebc396d2126",
   "metadata": {},
   "outputs": [
    {
     "data": {
      "text/html": [
       "<div>\n",
       "<style scoped>\n",
       "    .dataframe tbody tr th:only-of-type {\n",
       "        vertical-align: middle;\n",
       "    }\n",
       "\n",
       "    .dataframe tbody tr th {\n",
       "        vertical-align: top;\n",
       "    }\n",
       "\n",
       "    .dataframe thead th {\n",
       "        text-align: right;\n",
       "    }\n",
       "</style>\n",
       "<table border=\"1\" class=\"dataframe\">\n",
       "  <thead>\n",
       "    <tr style=\"text-align: right;\">\n",
       "      <th></th>\n",
       "      <th>id</th>\n",
       "      <th>date</th>\n",
       "      <th>country</th>\n",
       "      <th>store</th>\n",
       "      <th>product</th>\n",
       "    </tr>\n",
       "  </thead>\n",
       "  <tbody>\n",
       "    <tr>\n",
       "      <th>0</th>\n",
       "      <td>230130</td>\n",
       "      <td>2017-01-01</td>\n",
       "      <td>Canada</td>\n",
       "      <td>Discount Stickers</td>\n",
       "      <td>Holographic Goose</td>\n",
       "    </tr>\n",
       "    <tr>\n",
       "      <th>1</th>\n",
       "      <td>230131</td>\n",
       "      <td>2017-01-01</td>\n",
       "      <td>Canada</td>\n",
       "      <td>Discount Stickers</td>\n",
       "      <td>Kaggle</td>\n",
       "    </tr>\n",
       "    <tr>\n",
       "      <th>2</th>\n",
       "      <td>230132</td>\n",
       "      <td>2017-01-01</td>\n",
       "      <td>Canada</td>\n",
       "      <td>Discount Stickers</td>\n",
       "      <td>Kaggle Tiers</td>\n",
       "    </tr>\n",
       "    <tr>\n",
       "      <th>3</th>\n",
       "      <td>230133</td>\n",
       "      <td>2017-01-01</td>\n",
       "      <td>Canada</td>\n",
       "      <td>Discount Stickers</td>\n",
       "      <td>Kerneler</td>\n",
       "    </tr>\n",
       "    <tr>\n",
       "      <th>4</th>\n",
       "      <td>230134</td>\n",
       "      <td>2017-01-01</td>\n",
       "      <td>Canada</td>\n",
       "      <td>Discount Stickers</td>\n",
       "      <td>Kerneler Dark Mode</td>\n",
       "    </tr>\n",
       "  </tbody>\n",
       "</table>\n",
       "</div>"
      ],
      "text/plain": [
       "       id        date country              store             product\n",
       "0  230130  2017-01-01  Canada  Discount Stickers   Holographic Goose\n",
       "1  230131  2017-01-01  Canada  Discount Stickers              Kaggle\n",
       "2  230132  2017-01-01  Canada  Discount Stickers        Kaggle Tiers\n",
       "3  230133  2017-01-01  Canada  Discount Stickers            Kerneler\n",
       "4  230134  2017-01-01  Canada  Discount Stickers  Kerneler Dark Mode"
      ]
     },
     "execution_count": 4,
     "metadata": {},
     "output_type": "execute_result"
    }
   ],
   "source": [
    "df_test.head()"
   ]
  },
  {
   "cell_type": "markdown",
   "id": "415f2a91-fa61-49f3-91c3-ee6bee23e036",
   "metadata": {},
   "source": [
    "First of all, identify the dependent variable, which is `num_sold`:"
   ]
  },
  {
   "cell_type": "code",
   "execution_count": 5,
   "id": "3c7e4395-9692-4bc8-b86e-7f0b3df54cf8",
   "metadata": {},
   "outputs": [],
   "source": [
    "dep_var='num_sold'"
   ]
  },
  {
   "cell_type": "markdown",
   "id": "6864678f-789d-4b5b-88ce-008da99571cc",
   "metadata": {},
   "source": [
    "The function `describe` of a Pandas DataFrame provide us a brief summary of the variables in the dataframe"
   ]
  },
  {
   "cell_type": "code",
   "execution_count": 6,
   "id": "e9f0f6f2-1935-4a2e-ae2a-c2ac520e9a74",
   "metadata": {},
   "outputs": [
    {
     "data": {
      "text/html": [
       "<div>\n",
       "<style scoped>\n",
       "    .dataframe tbody tr th:only-of-type {\n",
       "        vertical-align: middle;\n",
       "    }\n",
       "\n",
       "    .dataframe tbody tr th {\n",
       "        vertical-align: top;\n",
       "    }\n",
       "\n",
       "    .dataframe thead th {\n",
       "        text-align: right;\n",
       "    }\n",
       "</style>\n",
       "<table border=\"1\" class=\"dataframe\">\n",
       "  <thead>\n",
       "    <tr style=\"text-align: right;\">\n",
       "      <th></th>\n",
       "      <th>id</th>\n",
       "      <th>num_sold</th>\n",
       "    </tr>\n",
       "  </thead>\n",
       "  <tbody>\n",
       "    <tr>\n",
       "      <th>count</th>\n",
       "      <td>230130.000000</td>\n",
       "      <td>221259.000000</td>\n",
       "    </tr>\n",
       "    <tr>\n",
       "      <th>mean</th>\n",
       "      <td>115064.500000</td>\n",
       "      <td>752.527382</td>\n",
       "    </tr>\n",
       "    <tr>\n",
       "      <th>std</th>\n",
       "      <td>66432.953062</td>\n",
       "      <td>690.165445</td>\n",
       "    </tr>\n",
       "    <tr>\n",
       "      <th>min</th>\n",
       "      <td>0.000000</td>\n",
       "      <td>5.000000</td>\n",
       "    </tr>\n",
       "    <tr>\n",
       "      <th>25%</th>\n",
       "      <td>57532.250000</td>\n",
       "      <td>219.000000</td>\n",
       "    </tr>\n",
       "    <tr>\n",
       "      <th>50%</th>\n",
       "      <td>115064.500000</td>\n",
       "      <td>605.000000</td>\n",
       "    </tr>\n",
       "    <tr>\n",
       "      <th>75%</th>\n",
       "      <td>172596.750000</td>\n",
       "      <td>1114.000000</td>\n",
       "    </tr>\n",
       "    <tr>\n",
       "      <th>max</th>\n",
       "      <td>230129.000000</td>\n",
       "      <td>5939.000000</td>\n",
       "    </tr>\n",
       "  </tbody>\n",
       "</table>\n",
       "</div>"
      ],
      "text/plain": [
       "                  id       num_sold\n",
       "count  230130.000000  221259.000000\n",
       "mean   115064.500000     752.527382\n",
       "std     66432.953062     690.165445\n",
       "min         0.000000       5.000000\n",
       "25%     57532.250000     219.000000\n",
       "50%    115064.500000     605.000000\n",
       "75%    172596.750000    1114.000000\n",
       "max    230129.000000    5939.000000"
      ]
     },
     "execution_count": 6,
     "metadata": {},
     "output_type": "execute_result"
    }
   ],
   "source": [
    "df.describe(include=np.number)"
   ]
  },
  {
   "cell_type": "code",
   "execution_count": 7,
   "id": "e325af4b-2f12-43ad-a20d-0dcf2a6383fa",
   "metadata": {},
   "outputs": [
    {
     "data": {
      "text/html": [
       "<div>\n",
       "<style scoped>\n",
       "    .dataframe tbody tr th:only-of-type {\n",
       "        vertical-align: middle;\n",
       "    }\n",
       "\n",
       "    .dataframe tbody tr th {\n",
       "        vertical-align: top;\n",
       "    }\n",
       "\n",
       "    .dataframe thead th {\n",
       "        text-align: right;\n",
       "    }\n",
       "</style>\n",
       "<table border=\"1\" class=\"dataframe\">\n",
       "  <thead>\n",
       "    <tr style=\"text-align: right;\">\n",
       "      <th></th>\n",
       "      <th>date</th>\n",
       "      <th>country</th>\n",
       "      <th>store</th>\n",
       "      <th>product</th>\n",
       "    </tr>\n",
       "  </thead>\n",
       "  <tbody>\n",
       "    <tr>\n",
       "      <th>count</th>\n",
       "      <td>230130</td>\n",
       "      <td>230130</td>\n",
       "      <td>230130</td>\n",
       "      <td>230130</td>\n",
       "    </tr>\n",
       "    <tr>\n",
       "      <th>unique</th>\n",
       "      <td>2557</td>\n",
       "      <td>6</td>\n",
       "      <td>3</td>\n",
       "      <td>5</td>\n",
       "    </tr>\n",
       "    <tr>\n",
       "      <th>top</th>\n",
       "      <td>2010-01-01</td>\n",
       "      <td>Canada</td>\n",
       "      <td>Discount Stickers</td>\n",
       "      <td>Holographic Goose</td>\n",
       "    </tr>\n",
       "    <tr>\n",
       "      <th>freq</th>\n",
       "      <td>90</td>\n",
       "      <td>38355</td>\n",
       "      <td>76710</td>\n",
       "      <td>46026</td>\n",
       "    </tr>\n",
       "  </tbody>\n",
       "</table>\n",
       "</div>"
      ],
      "text/plain": [
       "              date country              store            product\n",
       "count       230130  230130             230130             230130\n",
       "unique        2557       6                  3                  5\n",
       "top     2010-01-01  Canada  Discount Stickers  Holographic Goose\n",
       "freq            90   38355              76710              46026"
      ]
     },
     "execution_count": 7,
     "metadata": {},
     "output_type": "execute_result"
    }
   ],
   "source": [
    "df.describe(include=['object'])"
   ]
  },
  {
   "cell_type": "markdown",
   "id": "2e07dfe1-696e-4045-a358-e054239c2635",
   "metadata": {},
   "source": [
    "## 1. Working with Dates in Pandas\n",
    "\n",
    "This a time series problem, so it might be a good idea to know how to handles dates. In order to extract information about  the `date` column, like, what is the period of time that covers the training set, we can use the next techniques:  \n",
    "\n",
    "- Convert date strings to `datetime` objects:"
   ]
  },
  {
   "cell_type": "code",
   "execution_count": 8,
   "id": "0019d6a9-5e8f-45af-a5fe-81384c70c340",
   "metadata": {},
   "outputs": [],
   "source": [
    "df[\"date\"] = df[\"date\"].apply(lambda x: datetime.strptime(x, \"%Y-%m-%d\"))"
   ]
  },
  {
   "cell_type": "code",
   "execution_count": 9,
   "id": "0a7b3684-cf0b-4434-b07b-25242cc93288",
   "metadata": {},
   "outputs": [],
   "source": [
    "df_test[\"date\"] = df_test[\"date\"].apply(lambda x: datetime.strptime(x, \"%Y-%m-%d\"))"
   ]
  },
  {
   "cell_type": "markdown",
   "id": "396c87dc-b376-4df0-a00d-bb7277fcfb9c",
   "metadata": {},
   "source": [
    "- `df.describe()` can also give us a quick glance at the values of the date column:"
   ]
  },
  {
   "cell_type": "code",
   "execution_count": 10,
   "id": "2df4ba71-3ca0-4344-bebc-06a656aaf3b7",
   "metadata": {},
   "outputs": [
    {
     "data": {
      "text/html": [
       "<div>\n",
       "<style scoped>\n",
       "    .dataframe tbody tr th:only-of-type {\n",
       "        vertical-align: middle;\n",
       "    }\n",
       "\n",
       "    .dataframe tbody tr th {\n",
       "        vertical-align: top;\n",
       "    }\n",
       "\n",
       "    .dataframe thead th {\n",
       "        text-align: right;\n",
       "    }\n",
       "</style>\n",
       "<table border=\"1\" class=\"dataframe\">\n",
       "  <thead>\n",
       "    <tr style=\"text-align: right;\">\n",
       "      <th></th>\n",
       "      <th>date</th>\n",
       "    </tr>\n",
       "  </thead>\n",
       "  <tbody>\n",
       "    <tr>\n",
       "      <th>count</th>\n",
       "      <td>230130</td>\n",
       "    </tr>\n",
       "    <tr>\n",
       "      <th>mean</th>\n",
       "      <td>2013-07-02 00:00:00</td>\n",
       "    </tr>\n",
       "    <tr>\n",
       "      <th>min</th>\n",
       "      <td>2010-01-01 00:00:00</td>\n",
       "    </tr>\n",
       "    <tr>\n",
       "      <th>25%</th>\n",
       "      <td>2011-10-02 00:00:00</td>\n",
       "    </tr>\n",
       "    <tr>\n",
       "      <th>50%</th>\n",
       "      <td>2013-07-02 00:00:00</td>\n",
       "    </tr>\n",
       "    <tr>\n",
       "      <th>75%</th>\n",
       "      <td>2015-04-02 00:00:00</td>\n",
       "    </tr>\n",
       "    <tr>\n",
       "      <th>max</th>\n",
       "      <td>2016-12-31 00:00:00</td>\n",
       "    </tr>\n",
       "  </tbody>\n",
       "</table>\n",
       "</div>"
      ],
      "text/plain": [
       "                      date\n",
       "count               230130\n",
       "mean   2013-07-02 00:00:00\n",
       "min    2010-01-01 00:00:00\n",
       "25%    2011-10-02 00:00:00\n",
       "50%    2013-07-02 00:00:00\n",
       "75%    2015-04-02 00:00:00\n",
       "max    2016-12-31 00:00:00"
      ]
     },
     "execution_count": 10,
     "metadata": {},
     "output_type": "execute_result"
    }
   ],
   "source": [
    "df.describe(include='datetime')"
   ]
  },
  {
   "cell_type": "markdown",
   "id": "522525a8-1ada-4b47-b3d6-908c863e7d2c",
   "metadata": {},
   "source": [
    "We note that the training set covers the data of sticker sales from January 1, 2010 to December 31, 2016."
   ]
  },
  {
   "cell_type": "markdown",
   "id": "56d9ec52-beb7-427f-8de2-02e7054b0126",
   "metadata": {},
   "source": [
    "- Extract details like years or months:"
   ]
  },
  {
   "cell_type": "code",
   "execution_count": 11,
   "id": "433b6502-a920-4f25-9c43-bc7d3c47cd7a",
   "metadata": {},
   "outputs": [
    {
     "data": {
      "text/plain": [
       "array([2010, 2011, 2012, 2013, 2014, 2015, 2016], dtype=int32)"
      ]
     },
     "execution_count": 11,
     "metadata": {},
     "output_type": "execute_result"
    }
   ],
   "source": [
    "df[\"date\"].dt.year.unique()"
   ]
  },
  {
   "cell_type": "code",
   "execution_count": 12,
   "id": "517f5401-130a-4cef-b203-6b1ffca5cc85",
   "metadata": {},
   "outputs": [
    {
     "data": {
      "text/plain": [
       "array([ 1,  2,  3,  4,  5,  6,  7,  8,  9, 10, 11, 12], dtype=int32)"
      ]
     },
     "execution_count": 12,
     "metadata": {},
     "output_type": "execute_result"
    }
   ],
   "source": [
    "df[\"date\"].dt.month.unique()"
   ]
  },
  {
   "cell_type": "markdown",
   "id": "84dd6f88-f1a0-4357-8d86-39c2c5f8543f",
   "metadata": {},
   "source": [
    "We confirm that the dataset contains the sales info from (the beggining of) 2010 to (the end of) 2016. What about the test dataset?"
   ]
  },
  {
   "cell_type": "code",
   "execution_count": 13,
   "id": "d1573414-aa85-4894-bc22-f918cdd21c74",
   "metadata": {},
   "outputs": [
    {
     "data": {
      "text/plain": [
       "array([2017, 2018, 2019], dtype=int32)"
      ]
     },
     "execution_count": 13,
     "metadata": {},
     "output_type": "execute_result"
    }
   ],
   "source": [
    "df_test[\"date\"].dt.year.unique()"
   ]
  },
  {
   "cell_type": "markdown",
   "id": "f3e7939a-7344-4c35-bd65-2c0fd76e38df",
   "metadata": {},
   "source": [
    "You can also calculate time differences or derive weekday numbers using `datetime`. For example:"
   ]
  },
  {
   "cell_type": "code",
   "execution_count": 14,
   "id": "e13f60fa-d7c1-47e2-bf54-b473aa932016",
   "metadata": {},
   "outputs": [
    {
     "data": {
      "text/plain": [
       "7"
      ]
     },
     "execution_count": 14,
     "metadata": {},
     "output_type": "execute_result"
    }
   ],
   "source": [
    "delta = datetime(2025,1,27)-datetime(2025, 1, 20)\n",
    "delta.days"
   ]
  },
  {
   "cell_type": "code",
   "execution_count": 15,
   "id": "9bb3cb7f-026b-4c53-9db0-7d87a8492406",
   "metadata": {},
   "outputs": [
    {
     "name": "stdout",
     "output_type": "stream",
     "text": [
      "You can verify that today is day number 2 of the week and week number 03 of the year.\n"
     ]
    }
   ],
   "source": [
    "today=datetime.now()\n",
    "print(f\"You can verify that today is day number {today.weekday()} of the week and week number {today.strftime('%U')} of the year.\")"
   ]
  },
  {
   "cell_type": "markdown",
   "id": "87853c53-5c38-43cc-9e5e-1524b2cc4f4e",
   "metadata": {},
   "source": [
    "## 2. Creating Features from Dates\n",
    "\n",
    "Dates can provide a wealth of information when transformed into categorical or continuous variables:\n",
    "\n",
    "- `add_datepart` is a helpful function of the fastai's tabular module because it creates new features such as day of the week, week of the year, and year-end indicators based on the `date` column. They are important to study the relationship between the sales and, for example, weekends or holidays."
   ]
  },
  {
   "cell_type": "code",
   "execution_count": 16,
   "id": "de23fd08-f683-4f3d-9870-f5ba6c22d1c6",
   "metadata": {},
   "outputs": [
    {
     "data": {
      "text/html": [
       "<div>\n",
       "<style scoped>\n",
       "    .dataframe tbody tr th:only-of-type {\n",
       "        vertical-align: middle;\n",
       "    }\n",
       "\n",
       "    .dataframe tbody tr th {\n",
       "        vertical-align: top;\n",
       "    }\n",
       "\n",
       "    .dataframe thead th {\n",
       "        text-align: right;\n",
       "    }\n",
       "</style>\n",
       "<table border=\"1\" class=\"dataframe\">\n",
       "  <thead>\n",
       "    <tr style=\"text-align: right;\">\n",
       "      <th></th>\n",
       "      <th>id</th>\n",
       "      <th>country</th>\n",
       "      <th>store</th>\n",
       "      <th>product</th>\n",
       "      <th>num_sold</th>\n",
       "      <th>Year</th>\n",
       "      <th>Month</th>\n",
       "      <th>Week</th>\n",
       "      <th>Day</th>\n",
       "      <th>Dayofweek</th>\n",
       "      <th>Dayofyear</th>\n",
       "      <th>Is_month_end</th>\n",
       "      <th>Is_month_start</th>\n",
       "      <th>Is_quarter_end</th>\n",
       "      <th>Is_quarter_start</th>\n",
       "      <th>Is_year_end</th>\n",
       "      <th>Is_year_start</th>\n",
       "      <th>Elapsed</th>\n",
       "    </tr>\n",
       "  </thead>\n",
       "  <tbody>\n",
       "    <tr>\n",
       "      <th>0</th>\n",
       "      <td>0</td>\n",
       "      <td>Canada</td>\n",
       "      <td>Discount Stickers</td>\n",
       "      <td>Holographic Goose</td>\n",
       "      <td>NaN</td>\n",
       "      <td>2010</td>\n",
       "      <td>1</td>\n",
       "      <td>53</td>\n",
       "      <td>1</td>\n",
       "      <td>4</td>\n",
       "      <td>1</td>\n",
       "      <td>False</td>\n",
       "      <td>True</td>\n",
       "      <td>False</td>\n",
       "      <td>True</td>\n",
       "      <td>False</td>\n",
       "      <td>True</td>\n",
       "      <td>1.262304e+09</td>\n",
       "    </tr>\n",
       "    <tr>\n",
       "      <th>1</th>\n",
       "      <td>1</td>\n",
       "      <td>Canada</td>\n",
       "      <td>Discount Stickers</td>\n",
       "      <td>Kaggle</td>\n",
       "      <td>973.0</td>\n",
       "      <td>2010</td>\n",
       "      <td>1</td>\n",
       "      <td>53</td>\n",
       "      <td>1</td>\n",
       "      <td>4</td>\n",
       "      <td>1</td>\n",
       "      <td>False</td>\n",
       "      <td>True</td>\n",
       "      <td>False</td>\n",
       "      <td>True</td>\n",
       "      <td>False</td>\n",
       "      <td>True</td>\n",
       "      <td>1.262304e+09</td>\n",
       "    </tr>\n",
       "    <tr>\n",
       "      <th>2</th>\n",
       "      <td>2</td>\n",
       "      <td>Canada</td>\n",
       "      <td>Discount Stickers</td>\n",
       "      <td>Kaggle Tiers</td>\n",
       "      <td>906.0</td>\n",
       "      <td>2010</td>\n",
       "      <td>1</td>\n",
       "      <td>53</td>\n",
       "      <td>1</td>\n",
       "      <td>4</td>\n",
       "      <td>1</td>\n",
       "      <td>False</td>\n",
       "      <td>True</td>\n",
       "      <td>False</td>\n",
       "      <td>True</td>\n",
       "      <td>False</td>\n",
       "      <td>True</td>\n",
       "      <td>1.262304e+09</td>\n",
       "    </tr>\n",
       "    <tr>\n",
       "      <th>3</th>\n",
       "      <td>3</td>\n",
       "      <td>Canada</td>\n",
       "      <td>Discount Stickers</td>\n",
       "      <td>Kerneler</td>\n",
       "      <td>423.0</td>\n",
       "      <td>2010</td>\n",
       "      <td>1</td>\n",
       "      <td>53</td>\n",
       "      <td>1</td>\n",
       "      <td>4</td>\n",
       "      <td>1</td>\n",
       "      <td>False</td>\n",
       "      <td>True</td>\n",
       "      <td>False</td>\n",
       "      <td>True</td>\n",
       "      <td>False</td>\n",
       "      <td>True</td>\n",
       "      <td>1.262304e+09</td>\n",
       "    </tr>\n",
       "    <tr>\n",
       "      <th>4</th>\n",
       "      <td>4</td>\n",
       "      <td>Canada</td>\n",
       "      <td>Discount Stickers</td>\n",
       "      <td>Kerneler Dark Mode</td>\n",
       "      <td>491.0</td>\n",
       "      <td>2010</td>\n",
       "      <td>1</td>\n",
       "      <td>53</td>\n",
       "      <td>1</td>\n",
       "      <td>4</td>\n",
       "      <td>1</td>\n",
       "      <td>False</td>\n",
       "      <td>True</td>\n",
       "      <td>False</td>\n",
       "      <td>True</td>\n",
       "      <td>False</td>\n",
       "      <td>True</td>\n",
       "      <td>1.262304e+09</td>\n",
       "    </tr>\n",
       "  </tbody>\n",
       "</table>\n",
       "</div>"
      ],
      "text/plain": [
       "   id country              store             product  num_sold  Year  Month  \\\n",
       "0   0  Canada  Discount Stickers   Holographic Goose       NaN  2010      1   \n",
       "1   1  Canada  Discount Stickers              Kaggle     973.0  2010      1   \n",
       "2   2  Canada  Discount Stickers        Kaggle Tiers     906.0  2010      1   \n",
       "3   3  Canada  Discount Stickers            Kerneler     423.0  2010      1   \n",
       "4   4  Canada  Discount Stickers  Kerneler Dark Mode     491.0  2010      1   \n",
       "\n",
       "   Week  Day  Dayofweek  Dayofyear  Is_month_end  Is_month_start  \\\n",
       "0    53    1          4          1         False            True   \n",
       "1    53    1          4          1         False            True   \n",
       "2    53    1          4          1         False            True   \n",
       "3    53    1          4          1         False            True   \n",
       "4    53    1          4          1         False            True   \n",
       "\n",
       "   Is_quarter_end  Is_quarter_start  Is_year_end  Is_year_start       Elapsed  \n",
       "0           False              True        False           True  1.262304e+09  \n",
       "1           False              True        False           True  1.262304e+09  \n",
       "2           False              True        False           True  1.262304e+09  \n",
       "3           False              True        False           True  1.262304e+09  \n",
       "4           False              True        False           True  1.262304e+09  "
      ]
     },
     "execution_count": 16,
     "metadata": {},
     "output_type": "execute_result"
    }
   ],
   "source": [
    "df=add_datepart(df,\"date\")\n",
    "df.head()"
   ]
  },
  {
   "cell_type": "markdown",
   "id": "6cdf7403-fe33-4f09-8651-64cc7dfc92dc",
   "metadata": {},
   "source": [
    "## 3. Preparing the Dataset\n",
    "\n",
    "To train decision trees effectively:  \n",
    "\n",
    "- Ensure all columns are numerical, with no missing values. The next utilities of fastai address this issues in the dataset:\n",
    "  - **`FillMissing`**: Fill missing values in the continuous features of the dataset using its median by default, but it doesn't take into account the missing values in the dependent variable.\n",
    "  - **`Categorify`**: Convert categorical variables to numerical codes.\n",
    "\n",
    "Let's see where do we have missing values:"
   ]
  },
  {
   "cell_type": "code",
   "execution_count": 17,
   "id": "610704dd-1542-479d-9696-d390c13aab56",
   "metadata": {},
   "outputs": [
    {
     "data": {
      "text/plain": [
       "id                     0\n",
       "country                0\n",
       "store                  0\n",
       "product                0\n",
       "num_sold            8871\n",
       "Year                   0\n",
       "Month                  0\n",
       "Week                   0\n",
       "Day                    0\n",
       "Dayofweek              0\n",
       "Dayofyear              0\n",
       "Is_month_end           0\n",
       "Is_month_start         0\n",
       "Is_quarter_end         0\n",
       "Is_quarter_start       0\n",
       "Is_year_end            0\n",
       "Is_year_start          0\n",
       "Elapsed                0\n",
       "dtype: int64"
      ]
     },
     "execution_count": 17,
     "metadata": {},
     "output_type": "execute_result"
    }
   ],
   "source": [
    "df.isna().sum()"
   ]
  },
  {
   "cell_type": "markdown",
   "id": "b64c57ca-e82b-4d16-bd74-6548c7da8294",
   "metadata": {},
   "source": [
    "We can observe that the single variable with missing values is the dependent variable. \n",
    "\n",
    "Decision trees can't function with missing values in the dependent variable (nor in the independent variables), then we should find out a way to treat them, such as, filling them or eliminating those values, depending on whether the size of the dataset is large enough. Here I'm going to fill them with the median of the dependent variable."
   ]
  },
  {
   "cell_type": "code",
   "execution_count": 18,
   "id": "e58b6a15-2982-49d5-a4e7-ae045c1097ae",
   "metadata": {},
   "outputs": [
    {
     "data": {
      "text/plain": [
       "id                  0\n",
       "country             0\n",
       "store               0\n",
       "product             0\n",
       "num_sold            0\n",
       "Year                0\n",
       "Month               0\n",
       "Week                0\n",
       "Day                 0\n",
       "Dayofweek           0\n",
       "Dayofyear           0\n",
       "Is_month_end        0\n",
       "Is_month_start      0\n",
       "Is_quarter_end      0\n",
       "Is_quarter_start    0\n",
       "Is_year_end         0\n",
       "Is_year_start       0\n",
       "Elapsed             0\n",
       "dtype: int64"
      ]
     },
     "execution_count": 18,
     "metadata": {},
     "output_type": "execute_result"
    }
   ],
   "source": [
    "median=df[\"num_sold\"].median()\n",
    "df[\"num_sold\"]=df[\"num_sold\"].fillna(median)\n",
    "df.isna().sum()"
   ]
  },
  {
   "cell_type": "markdown",
   "id": "92f5f380-ce56-498e-961c-716574129a4c",
   "metadata": {},
   "source": [
    "As there were no missing values in the features, then we only need to categorify the categorical variables."
   ]
  },
  {
   "cell_type": "code",
   "execution_count": 19,
   "id": "b565d80a-d75c-436e-96d3-0e0fc1cc2a63",
   "metadata": {},
   "outputs": [],
   "source": [
    "procs=[Categorify]"
   ]
  },
  {
   "cell_type": "markdown",
   "id": "13b61e90-fbc6-403f-9b04-5199465a72b5",
   "metadata": {},
   "source": [
    "But, which are the categorical variables? fastai also provides us a quick method to distinguish between continuous and categorical variables: "
   ]
  },
  {
   "cell_type": "code",
   "execution_count": 20,
   "id": "4c1d7cc7-8ee0-4766-a16f-74de86d4fa86",
   "metadata": {},
   "outputs": [],
   "source": [
    "cont,cat=cont_cat_split(df,1,dep_var)"
   ]
  },
  {
   "cell_type": "code",
   "execution_count": 21,
   "id": "70771784-f8c6-486b-8fc3-399059f06770",
   "metadata": {},
   "outputs": [
    {
     "name": "stdout",
     "output_type": "stream",
     "text": [
      "Continuous variables: ['id', 'Year', 'Month', 'Week', 'Day', 'Dayofweek', 'Dayofyear', 'Elapsed']\n",
      "Categorical variables: ['country', 'store', 'product', 'Is_month_end', 'Is_month_start', 'Is_quarter_end', 'Is_quarter_start', 'Is_year_end', 'Is_year_start']\n"
     ]
    }
   ],
   "source": [
    "print(f\"Continuous variables: {cont}\")\n",
    "print(f\"Categorical variables: {cat}\")"
   ]
  },
  {
   "cell_type": "markdown",
   "id": "c8cec333-8d06-4977-8659-4e3a1623a4a9",
   "metadata": {},
   "source": []
  },
  {
   "cell_type": "markdown",
   "id": "5f04d447-e2a7-4c93-9427-db3d6ff54748",
   "metadata": {},
   "source": [
    "## 4. Validation set\n",
    "\n",
    "- For time-series problems, remember: **we are trying to predict the future**.\n",
    "\n",
    "The validation set have to represent future data. As we want the validation set to reflect the test set, we will build the validation set such that it spans the data from the last three years in the training set. "
   ]
  },
  {
   "cell_type": "code",
   "execution_count": 22,
   "id": "2cab954d-8aed-4e95-a1f9-86eb28869230",
   "metadata": {},
   "outputs": [],
   "source": [
    "cond = df[\"Year\"]<2014\n",
    "train_idx = np.where(cond)[0]\n",
    "valid_idx = np.where(~cond)[0]\n",
    "splits = (list(train_idx),list(valid_idx))"
   ]
  },
  {
   "cell_type": "code",
   "execution_count": 23,
   "id": "bba715de-358d-4130-b566-319fa57aaabc",
   "metadata": {},
   "outputs": [
    {
     "data": {
      "text/plain": [
       "131490"
      ]
     },
     "execution_count": 23,
     "metadata": {},
     "output_type": "execute_result"
    }
   ],
   "source": [
    "len(splits[0])"
   ]
  },
  {
   "cell_type": "markdown",
   "id": "ee96a10a-4fe6-4b8d-97c8-3aac265dabd9",
   "metadata": {},
   "source": [
    "## 5. TabularPandas\n",
    "\n",
    "Create a tabular object of fastai. We need to tell to it:\n",
    "* where is the data\n",
    "* how to process the data\n",
    "* which columns are continuous and wich columns are categorical\n",
    "* which is the target variable\n",
    "* and how to split the data to create training and validation sets."
   ]
  },
  {
   "cell_type": "code",
   "execution_count": 24,
   "id": "fb438d8b-6b4b-4bfc-b72c-ef4e5a35ad7d",
   "metadata": {},
   "outputs": [],
   "source": [
    "to = TabularPandas(df, procs, cat, cont, dep_var, splits=splits)"
   ]
  },
  {
   "cell_type": "markdown",
   "id": "f7c76717-475c-452e-aa4d-11ac3faae492",
   "metadata": {},
   "source": [
    "`TabularPandas` returns `train` and `valid` attributes. "
   ]
  },
  {
   "cell_type": "code",
   "execution_count": 25,
   "id": "bab7e0f3-52e7-4754-bbee-9bcd982fdd46",
   "metadata": {},
   "outputs": [],
   "source": [
    "train_xs, train_y = to.train.xs, to.train.y\n",
    "valid_xs, valid_y = to.valid.xs, to.valid.y"
   ]
  },
  {
   "cell_type": "markdown",
   "id": "8eedb6d0-5999-44fd-9a72-29b175aad224",
   "metadata": {},
   "source": [
    "Now all the variables have numerical values and we are ready train the decision tree:"
   ]
  },
  {
   "cell_type": "code",
   "execution_count": 26,
   "id": "5049ca80-5eb2-4e3e-b4bb-3f32d6c03498",
   "metadata": {},
   "outputs": [
    {
     "data": {
      "text/plain": [
       "country                int8\n",
       "store                  int8\n",
       "product                int8\n",
       "Is_month_end           int8\n",
       "Is_month_start         int8\n",
       "Is_quarter_end         int8\n",
       "Is_quarter_start       int8\n",
       "Is_year_end            int8\n",
       "Is_year_start          int8\n",
       "id                    int32\n",
       "Year                  int16\n",
       "Month                  int8\n",
       "Week                   int8\n",
       "Day                    int8\n",
       "Dayofweek              int8\n",
       "Dayofyear             int16\n",
       "Elapsed             float32\n",
       "dtype: object"
      ]
     },
     "execution_count": 26,
     "metadata": {},
     "output_type": "execute_result"
    }
   ],
   "source": [
    "train_xs.dtypes"
   ]
  },
  {
   "cell_type": "code",
   "execution_count": 27,
   "id": "ffd09ac6-5504-4362-8ad2-ae138e59d02c",
   "metadata": {},
   "outputs": [
    {
     "data": {
      "text/plain": [
       "country                int8\n",
       "store                  int8\n",
       "product                int8\n",
       "Is_month_end           int8\n",
       "Is_month_start         int8\n",
       "Is_quarter_end         int8\n",
       "Is_quarter_start       int8\n",
       "Is_year_end            int8\n",
       "Is_year_start          int8\n",
       "id                    int32\n",
       "Year                  int16\n",
       "Month                  int8\n",
       "Week                   int8\n",
       "Day                    int8\n",
       "Dayofweek              int8\n",
       "Dayofyear             int16\n",
       "Elapsed             float32\n",
       "dtype: object"
      ]
     },
     "execution_count": 27,
     "metadata": {},
     "output_type": "execute_result"
    }
   ],
   "source": [
    "valid_xs.dtypes"
   ]
  },
  {
   "cell_type": "markdown",
   "id": "ee1a3107-8538-4f0c-8279-6dc1d0844bfb",
   "metadata": {},
   "source": [
    "## 6. Training Decision Trees"
   ]
  },
  {
   "cell_type": "code",
   "execution_count": 28,
   "id": "5b38e954-27aa-45e1-8b6c-4f7c638726e5",
   "metadata": {},
   "outputs": [],
   "source": [
    "from sklearn.tree import DecisionTreeRegressor, export_graphviz\n",
    "\n",
    "m = DecisionTreeRegressor(max_leaf_nodes=4)\n",
    "m.fit(train_xs,train_y);"
   ]
  },
  {
   "cell_type": "code",
   "execution_count": 29,
   "id": "5b6af2d7-83ba-4b1f-ae7f-9e15b644f364",
   "metadata": {},
   "outputs": [],
   "source": [
    "import graphviz\n",
    "\n",
    "def draw_tree(t, df, size=10, ratio=0.6, precision=2, **kwargs):\n",
    "    s=export_graphviz(t, out_file=None, feature_names=df.columns, filled=True, leaves_parallel=True, rounded=True,\n",
    "                      special_characters=True, rotate=False, precision=precision, **kwargs)\n",
    "    return graphviz.Source(re.sub('Tree {', f'Tree {{ size={size}; ratio={ratio}', s))"
   ]
  },
  {
   "cell_type": "code",
   "execution_count": 30,
   "id": "bc2b8263-2436-47d9-b6f0-dd4fd940272b",
   "metadata": {},
   "outputs": [
    {
     "data": {
      "image/svg+xml": [
       "<?xml version=\"1.0\" encoding=\"UTF-8\" standalone=\"no\"?>\n",
       "<!DOCTYPE svg PUBLIC \"-//W3C//DTD SVG 1.1//EN\"\n",
       " \"http://www.w3.org/Graphics/SVG/1.1/DTD/svg11.dtd\">\n",
       "<!-- Generated by graphviz version 2.43.0 (0)\n",
       " -->\n",
       "<!-- Title: Tree Pages: 1 -->\n",
       "<svg width=\"504pt\" height=\"305pt\"\n",
       " viewBox=\"0.00 0.00 504.00 304.61\" xmlns=\"http://www.w3.org/2000/svg\" xmlns:xlink=\"http://www.w3.org/1999/xlink\">\n",
       "<g id=\"graph0\" class=\"graph\" transform=\"scale(0.56 0.56) rotate(0) translate(4 536.31)\">\n",
       "<title>Tree</title>\n",
       "<polygon fill=\"white\" stroke=\"transparent\" points=\"-4,4 -4,-536.31 890,-536.31 890,4 -4,4\"/>\n",
       "<!-- 0 -->\n",
       "<g id=\"node1\" class=\"node\">\n",
       "<title>0</title>\n",
       "<path fill=\"#f6d4bb\" stroke=\"black\" d=\"M310,-518C310,-518 124,-518 124,-518 118,-518 112,-512 112,-506 112,-506 112,-462 112,-462 112,-456 118,-450 124,-450 124,-450 310,-450 310,-450 316,-450 322,-456 322,-462 322,-462 322,-506 322,-506 322,-512 316,-518 310,-518\"/>\n",
       "<text text-anchor=\"start\" x=\"168.5\" y=\"-502.8\" font-family=\"Helvetica,sans-Serif\" font-size=\"14.00\">country ≤ 4.5</text>\n",
       "<text text-anchor=\"start\" x=\"120\" y=\"-487.8\" font-family=\"Helvetica,sans-Serif\" font-size=\"14.00\">squared_error = 504409.54</text>\n",
       "<text text-anchor=\"start\" x=\"150.5\" y=\"-472.8\" font-family=\"Helvetica,sans-Serif\" font-size=\"14.00\">samples = 131490</text>\n",
       "<text text-anchor=\"start\" x=\"162.5\" y=\"-457.8\" font-family=\"Helvetica,sans-Serif\" font-size=\"14.00\">value = 774.44</text>\n",
       "</g>\n",
       "<!-- 1 -->\n",
       "<g id=\"node2\" class=\"node\">\n",
       "<title>1</title>\n",
       "<path fill=\"#fae6d7\" stroke=\"black\" d=\"M198,-64.5C198,-64.5 12,-64.5 12,-64.5 6,-64.5 0,-58.5 0,-52.5 0,-52.5 0,-23.5 0,-23.5 0,-17.5 6,-11.5 12,-11.5 12,-11.5 198,-11.5 198,-11.5 204,-11.5 210,-17.5 210,-23.5 210,-23.5 210,-52.5 210,-52.5 210,-58.5 204,-64.5 198,-64.5\"/>\n",
       "<text text-anchor=\"start\" x=\"8\" y=\"-49.3\" font-family=\"Helvetica,sans-Serif\" font-size=\"14.00\">squared_error = 244701.53</text>\n",
       "<text text-anchor=\"start\" x=\"43\" y=\"-34.3\" font-family=\"Helvetica,sans-Serif\" font-size=\"14.00\">samples = 87660</text>\n",
       "<text text-anchor=\"start\" x=\"50.5\" y=\"-19.3\" font-family=\"Helvetica,sans-Serif\" font-size=\"14.00\">value = 569.76</text>\n",
       "</g>\n",
       "<!-- 0&#45;&gt;1 -->\n",
       "<g id=\"edge1\" class=\"edge\">\n",
       "<title>0&#45;&gt;1</title>\n",
       "<path fill=\"none\" stroke=\"black\" d=\"M208.67,-449.99C188.11,-368.48 135.07,-158.21 113.91,-74.32\"/>\n",
       "<polygon fill=\"black\" stroke=\"black\" points=\"117.27,-73.34 111.43,-64.5 110.49,-75.05 117.27,-73.34\"/>\n",
       "<text text-anchor=\"middle\" x=\"98.62\" y=\"-82.27\" font-family=\"Helvetica,sans-Serif\" font-size=\"14.00\">True</text>\n",
       "</g>\n",
       "<!-- 2 -->\n",
       "<g id=\"node3\" class=\"node\">\n",
       "<title>2</title>\n",
       "<path fill=\"#efb083\" stroke=\"black\" d=\"M422,-369C422,-369 236,-369 236,-369 230,-369 224,-363 224,-357 224,-357 224,-313 224,-313 224,-307 230,-301 236,-301 236,-301 422,-301 422,-301 428,-301 434,-307 434,-313 434,-313 434,-357 434,-357 434,-363 428,-369 422,-369\"/>\n",
       "<text text-anchor=\"start\" x=\"280.5\" y=\"-353.8\" font-family=\"Helvetica,sans-Serif\" font-size=\"14.00\">product ≤ 1.5</text>\n",
       "<text text-anchor=\"start\" x=\"232\" y=\"-338.8\" font-family=\"Helvetica,sans-Serif\" font-size=\"14.00\">squared_error = 772454.13</text>\n",
       "<text text-anchor=\"start\" x=\"267\" y=\"-323.8\" font-family=\"Helvetica,sans-Serif\" font-size=\"14.00\">samples = 43830</text>\n",
       "<text text-anchor=\"start\" x=\"270\" y=\"-308.8\" font-family=\"Helvetica,sans-Serif\" font-size=\"14.00\">value = 1183.81</text>\n",
       "</g>\n",
       "<!-- 0&#45;&gt;2 -->\n",
       "<g id=\"edge2\" class=\"edge\">\n",
       "<title>0&#45;&gt;2</title>\n",
       "<path fill=\"none\" stroke=\"black\" d=\"M242.41,-449.64C258.74,-428.22 280.07,-400.23 297.47,-377.38\"/>\n",
       "<polygon fill=\"black\" stroke=\"black\" points=\"300.41,-379.3 303.69,-369.22 294.84,-375.06 300.41,-379.3\"/>\n",
       "<text text-anchor=\"middle\" x=\"307.03\" y=\"-390.3\" font-family=\"Helvetica,sans-Serif\" font-size=\"14.00\">False</text>\n",
       "</g>\n",
       "<!-- 3 -->\n",
       "<g id=\"node4\" class=\"node\">\n",
       "<title>3</title>\n",
       "<path fill=\"#ffffff\" stroke=\"black\" d=\"M417.5,-64.5C417.5,-64.5 240.5,-64.5 240.5,-64.5 234.5,-64.5 228.5,-58.5 228.5,-52.5 228.5,-52.5 228.5,-23.5 228.5,-23.5 228.5,-17.5 234.5,-11.5 240.5,-11.5 240.5,-11.5 417.5,-11.5 417.5,-11.5 423.5,-11.5 429.5,-17.5 429.5,-23.5 429.5,-23.5 429.5,-52.5 429.5,-52.5 429.5,-58.5 423.5,-64.5 417.5,-64.5\"/>\n",
       "<text text-anchor=\"start\" x=\"236.5\" y=\"-49.3\" font-family=\"Helvetica,sans-Serif\" font-size=\"14.00\">squared_error = 18432.95</text>\n",
       "<text text-anchor=\"start\" x=\"271.5\" y=\"-34.3\" font-family=\"Helvetica,sans-Serif\" font-size=\"14.00\">samples = 8766</text>\n",
       "<text text-anchor=\"start\" x=\"274.5\" y=\"-19.3\" font-family=\"Helvetica,sans-Serif\" font-size=\"14.00\">value = 280.19</text>\n",
       "</g>\n",
       "<!-- 2&#45;&gt;3 -->\n",
       "<g id=\"edge3\" class=\"edge\">\n",
       "<title>2&#45;&gt;3</title>\n",
       "<path fill=\"none\" stroke=\"black\" d=\"M329,-300.73C329,-244.84 329,-132.57 329,-74.94\"/>\n",
       "<polygon fill=\"black\" stroke=\"black\" points=\"332.5,-74.84 329,-64.84 325.5,-74.84 332.5,-74.84\"/>\n",
       "</g>\n",
       "<!-- 4 -->\n",
       "<g id=\"node5\" class=\"node\">\n",
       "<title>4</title>\n",
       "<path fill=\"#eb9c64\" stroke=\"black\" d=\"M646,-220C646,-220 460,-220 460,-220 454,-220 448,-214 448,-208 448,-208 448,-164 448,-164 448,-158 454,-152 460,-152 460,-152 646,-152 646,-152 652,-152 658,-158 658,-164 658,-164 658,-208 658,-208 658,-214 652,-220 646,-220\"/>\n",
       "<text text-anchor=\"start\" x=\"513.5\" y=\"-204.8\" font-family=\"Helvetica,sans-Serif\" font-size=\"14.00\">store ≤ 1.5</text>\n",
       "<text text-anchor=\"start\" x=\"456\" y=\"-189.8\" font-family=\"Helvetica,sans-Serif\" font-size=\"14.00\">squared_error = 705798.68</text>\n",
       "<text text-anchor=\"start\" x=\"491\" y=\"-174.8\" font-family=\"Helvetica,sans-Serif\" font-size=\"14.00\">samples = 35064</text>\n",
       "<text text-anchor=\"start\" x=\"494\" y=\"-159.8\" font-family=\"Helvetica,sans-Serif\" font-size=\"14.00\">value = 1409.71</text>\n",
       "</g>\n",
       "<!-- 2&#45;&gt;4 -->\n",
       "<g id=\"edge4\" class=\"edge\">\n",
       "<title>2&#45;&gt;4</title>\n",
       "<path fill=\"none\" stroke=\"black\" d=\"M379.55,-300.83C413.6,-278.48 458.61,-248.94 494.25,-225.55\"/>\n",
       "<polygon fill=\"black\" stroke=\"black\" points=\"496.19,-228.47 502.63,-220.05 492.35,-222.61 496.19,-228.47\"/>\n",
       "</g>\n",
       "<!-- 5 -->\n",
       "<g id=\"node6\" class=\"node\">\n",
       "<title>5</title>\n",
       "<path fill=\"#f6d3ba\" stroke=\"black\" d=\"M646,-64.5C646,-64.5 460,-64.5 460,-64.5 454,-64.5 448,-58.5 448,-52.5 448,-52.5 448,-23.5 448,-23.5 448,-17.5 454,-11.5 460,-11.5 460,-11.5 646,-11.5 646,-11.5 652,-11.5 658,-17.5 658,-23.5 658,-23.5 658,-52.5 658,-52.5 658,-58.5 652,-64.5 646,-64.5\"/>\n",
       "<text text-anchor=\"start\" x=\"456\" y=\"-49.3\" font-family=\"Helvetica,sans-Serif\" font-size=\"14.00\">squared_error = 137446.65</text>\n",
       "<text text-anchor=\"start\" x=\"491\" y=\"-34.3\" font-family=\"Helvetica,sans-Serif\" font-size=\"14.00\">samples = 11688</text>\n",
       "<text text-anchor=\"start\" x=\"498.5\" y=\"-19.3\" font-family=\"Helvetica,sans-Serif\" font-size=\"14.00\">value = 781.45</text>\n",
       "</g>\n",
       "<!-- 4&#45;&gt;5 -->\n",
       "<g id=\"edge5\" class=\"edge\">\n",
       "<title>4&#45;&gt;5</title>\n",
       "<path fill=\"none\" stroke=\"black\" d=\"M553,-151.87C553,-128.96 553,-98.49 553,-74.99\"/>\n",
       "<polygon fill=\"black\" stroke=\"black\" points=\"556.5,-74.73 553,-64.73 549.5,-74.73 556.5,-74.73\"/>\n",
       "</g>\n",
       "<!-- 6 -->\n",
       "<g id=\"node7\" class=\"node\">\n",
       "<title>6</title>\n",
       "<path fill=\"#e58139\" stroke=\"black\" d=\"M874,-64.5C874,-64.5 688,-64.5 688,-64.5 682,-64.5 676,-58.5 676,-52.5 676,-52.5 676,-23.5 676,-23.5 676,-17.5 682,-11.5 688,-11.5 688,-11.5 874,-11.5 874,-11.5 880,-11.5 886,-17.5 886,-23.5 886,-23.5 886,-52.5 886,-52.5 886,-58.5 880,-64.5 874,-64.5\"/>\n",
       "<text text-anchor=\"start\" x=\"684\" y=\"-49.3\" font-family=\"Helvetica,sans-Serif\" font-size=\"14.00\">squared_error = 693942.31</text>\n",
       "<text text-anchor=\"start\" x=\"719\" y=\"-34.3\" font-family=\"Helvetica,sans-Serif\" font-size=\"14.00\">samples = 23376</text>\n",
       "<text text-anchor=\"start\" x=\"722\" y=\"-19.3\" font-family=\"Helvetica,sans-Serif\" font-size=\"14.00\">value = 1723.84</text>\n",
       "</g>\n",
       "<!-- 4&#45;&gt;6 -->\n",
       "<g id=\"edge6\" class=\"edge\">\n",
       "<title>4&#45;&gt;6</title>\n",
       "<path fill=\"none\" stroke=\"black\" d=\"M604.74,-151.87C643.05,-127.34 694.9,-94.13 732.44,-70.1\"/>\n",
       "<polygon fill=\"black\" stroke=\"black\" points=\"734.64,-72.84 741.18,-64.5 730.87,-66.95 734.64,-72.84\"/>\n",
       "</g>\n",
       "</g>\n",
       "</svg>\n"
      ],
      "text/plain": [
       "<graphviz.sources.Source at 0x7f1774ee78f0>"
      ]
     },
     "execution_count": 30,
     "metadata": {},
     "output_type": "execute_result"
    }
   ],
   "source": [
    "draw_tree(m,train_xs,size=7)"
   ]
  },
  {
   "cell_type": "markdown",
   "id": "a311f6e9-0445-4cd2-97cc-031ccd765c1b",
   "metadata": {},
   "source": [
    "A decision tree is produced by a sequence of yes/no questions that generates binary splits. The objective of a decision tree is to locate a data point (even an unseen data point) in a group. The prediction of a decision tree is the average of the dependent variables in that group.\n",
    "\n",
    "In the visualization of the decision tree above, we have:\n",
    "* The leaf at the top of the tree is the initial model. There lives all the data points of the training set. `samples` is therefore equal to the number of samples in the training set, `value` is the average of the dependent variable in the whole training set: "
   ]
  },
  {
   "cell_type": "code",
   "execution_count": 31,
   "id": "ba32bce9-babc-4e8b-aad0-ac920d6aa0d3",
   "metadata": {},
   "outputs": [
    {
     "data": {
      "text/plain": [
       "774.4401"
      ]
     },
     "execution_count": 31,
     "metadata": {},
     "output_type": "execute_result"
    }
   ],
   "source": [
    "value = train_y.mean()\n",
    "value"
   ]
  },
  {
   "cell_type": "markdown",
   "id": "b3789e05-88c3-4a2e-90b4-e4be85a7ceff",
   "metadata": {},
   "source": [
    "`squared_error` is the average of the squared error between true y and predicted y (value)."
   ]
  },
  {
   "cell_type": "code",
   "execution_count": 32,
   "id": "3229fb94-59da-4d7c-b0a3-011c067573c3",
   "metadata": {},
   "outputs": [
    {
     "data": {
      "text/plain": [
       "504409.53"
      ]
     },
     "execution_count": 32,
     "metadata": {},
     "output_type": "execute_result"
    }
   ],
   "source": [
    "squared_error=((train_y - value)**2).mean()\n",
    "squared_error"
   ]
  },
  {
   "cell_type": "markdown",
   "id": "378c12b7-c060-4de9-9417-67b2a1607a56",
   "metadata": {},
   "source": [
    "`country<=4.5`? is the first yes-no question that will create the first binary split, i.e., the first two groups. Why the decision tree algorithm decide to ask this question? The decision tree actually figure out that this was the question among all the posible yes-no questions, returns the smallest overall squared error, that is, this binary split generates the best predictions among all the possible binary splits.  "
   ]
  },
  {
   "cell_type": "code",
   "execution_count": 33,
   "id": "e1b03c29-e2e6-4d6d-abbb-eb2eecf60b92",
   "metadata": {},
   "outputs": [
    {
     "data": {
      "text/plain": [
       "array([1, 2, 3, 4, 5, 6], dtype=int8)"
      ]
     },
     "execution_count": 33,
     "metadata": {},
     "output_type": "execute_result"
    }
   ],
   "source": [
    "train_xs[\"country\"].unique()"
   ]
  },
  {
   "cell_type": "markdown",
   "id": "64940231-5762-45f4-bbce-25928c39b623",
   "metadata": {},
   "source": [
    "The leaf at the bottom left is where the condition `country<=4.5` is true. We will called it \"group 1\". Observe that in in group 1 the sales in countries 1,2,3 and 4, the average number of sold stickers is equal to `569.76` and there are `87660` sale records. On the other hand, for the second group, group 2, conformed by sales in countries 5 and 6, the average number of sold stickers almost doubles the number of sold stickers in group 1 and its number of sale records is aproximately the half of sale records in group 1. Then, we can say that in countries 5 and 6 the ratio of number of sold stickers per sale is significantly higher.\n",
    "\n",
    "The algorithm proceed to split group 2 according to the question `product<=1.5`?. If yes, we have group 3, where sticker 1 has an average number of sticker of 280.19 with a number of samples equals to one fifth of the data in group 2, in contrast to  `1409.71` in the group 3, but with four fifths of the data in group 2. For me. it is not obvious why product 1 has been set apart from the other products, since it has the lowest num. of  sold items of this split, but it migth be because there are fewer samples in this group: so my question is do they like or dislike sticker number 1?\n",
    "\n",
    "And the decision goes on making questions until it has the indicated number of leaf nodes we set in the argument of our model. "
   ]
  },
  {
   "cell_type": "code",
   "execution_count": 34,
   "id": "bb449b81-1dbe-4217-884c-dded6b235043",
   "metadata": {},
   "outputs": [
    {
     "data": {
      "text/plain": [
       "array([1, 2, 3, 4, 5], dtype=int8)"
      ]
     },
     "execution_count": 34,
     "metadata": {},
     "output_type": "execute_result"
    }
   ],
   "source": [
    "train_xs[\"product\"].unique()"
   ]
  },
  {
   "cell_type": "code",
   "execution_count": 35,
   "id": "54eca831-2daa-49f8-8db3-0f195afb67f4",
   "metadata": {},
   "outputs": [
    {
     "data": {
      "text/plain": [
       "array([1, 3, 2], dtype=int8)"
      ]
     },
     "execution_count": 35,
     "metadata": {},
     "output_type": "execute_result"
    }
   ],
   "source": [
    "train_xs[\"store\"].unique()"
   ]
  },
  {
   "cell_type": "markdown",
   "id": "b85f4702-eef0-482c-8c33-2a2357bddd0f",
   "metadata": {},
   "source": [
    "Some considerations when training decision trees:  \n",
    "\n",
    "- Avoid **overfitting** by setting a maximum depth for the tree. Without limits, decision trees in scikit-learn can grow until only one observation remains per leaf, reducing their ability to generalize."
   ]
  },
  {
   "cell_type": "code",
   "execution_count": 36,
   "id": "14f8b837-1f8d-4e81-abca-bb1a1a755d59",
   "metadata": {},
   "outputs": [],
   "source": [
    "# Tree without limits\n",
    "m = DecisionTreeRegressor()\n",
    "m.fit(train_xs,train_y);"
   ]
  },
  {
   "cell_type": "code",
   "execution_count": 37,
   "id": "15b8d3ab-2c4d-44e2-91a8-2435afa09c9e",
   "metadata": {},
   "outputs": [
    {
     "data": {
      "text/plain": [
       "(116193, 131490)"
      ]
     },
     "execution_count": 37,
     "metadata": {},
     "output_type": "execute_result"
    }
   ],
   "source": [
    "(m.get_n_leaves(),len(train_xs))"
   ]
  },
  {
   "cell_type": "markdown",
   "id": "f017f425-98b9-4396-9291-f238923a0d4c",
   "metadata": {},
   "source": [
    "There are as many leaves as data points. How well is this model performing? In order to know, we need to compute the metric: mean absolute percentage error.\n",
    "\n",
    "## 7. Metric and Model Evaluation\n",
    "\n",
    "The Mean Absolute Percentage Error (MAPE) is given as follows:\n",
    "$$\n",
    "\\text{MAPE} = \\frac{1}{n_{samples}} \\sum_{i=0}^{n_{samples}-1}\\frac{|y_i - \\hat{y}_i|}{\\max(\\epsilon, |y_i|)}\n",
    "$$\n",
    "where $y_i$ is a true value, $\\hat{y}_i$ is a predicted value, $n_{samples}$ equals the number of samples, and $\\epsilon$ is small number to ensure the formula works even if the true value is zero. \n",
    "\n",
    "MAPE measures the relative error between predicted and actual values. Smaller errors contribute less to the metric, making it effective for datasets with varying scales. Note that, if a true value is small, and the absolute error between true and predicted values is big, the relative error would be big.\n",
    "\n",
    "The ideal value of MAPE is 0, indicating a perfect model where predicted values match the true values exactly. A MAPE value greater than 1 corresponds to an error exceeding 100% of the true value. For instance, a MAPE of 2 implies the prediction is off by 200%.\n"
   ]
  },
  {
   "cell_type": "code",
   "execution_count": 38,
   "id": "9be7079e-19f3-4613-80a2-9355d857e1bb",
   "metadata": {},
   "outputs": [],
   "source": [
    "from sklearn.metrics import mean_absolute_percentage_error\n",
    "\n",
    "def mape(m,xs,y):\n",
    "    return mean_absolute_percentage_error(y,m.predict(xs))"
   ]
  },
  {
   "cell_type": "code",
   "execution_count": 39,
   "id": "4b2d66b9-7ba4-4158-9e28-46a20da1a9f8",
   "metadata": {},
   "outputs": [
    {
     "data": {
      "text/plain": [
       "0.0"
      ]
     },
     "execution_count": 39,
     "metadata": {},
     "output_type": "execute_result"
    }
   ],
   "source": [
    "mape(m,train_xs,train_y)"
   ]
  },
  {
   "cell_type": "markdown",
   "id": "14e942f6-81b2-4716-81ce-76f0edd4ab7c",
   "metadata": {},
   "source": [
    "Hold on a second, please!"
   ]
  },
  {
   "cell_type": "code",
   "execution_count": 40,
   "id": "9706e18d-80e5-4af5-b4c7-4550a6232d50",
   "metadata": {},
   "outputs": [
    {
     "data": {
      "text/plain": [
       "0.44957757257369363"
      ]
     },
     "execution_count": 40,
     "metadata": {},
     "output_type": "execute_result"
    }
   ],
   "source": [
    "mape(m,valid_xs,valid_y)"
   ]
  },
  {
   "cell_type": "markdown",
   "id": "a2d56cfc-de07-48a1-9b73-598107a685d0",
   "metadata": {},
   "source": [
    "The model is not as good as we tought it was! The reason is that the decision tree has been overfitted since there are aproximately the same number of leaves as data points, then the decision tree is simply describing the paths (sequences of binary questions) to reach each data point in the training dataset, then it can't generalize to unseen data. \n",
    "\n",
    "So, we need to put a limit to the minimum number of data points in a leaf. "
   ]
  },
  {
   "cell_type": "code",
   "execution_count": 41,
   "id": "478bf999-0c84-458b-a707-5a37c8fa0cc6",
   "metadata": {},
   "outputs": [
    {
     "data": {
      "text/plain": [
       "(9916, 131490)"
      ]
     },
     "execution_count": 41,
     "metadata": {},
     "output_type": "execute_result"
    }
   ],
   "source": [
    "m=DecisionTreeRegressor(min_samples_leaf=10)\n",
    "m.fit(train_xs,train_y)\n",
    "m.get_n_leaves(), len(train_xs)"
   ]
  },
  {
   "cell_type": "code",
   "execution_count": 42,
   "id": "57e74e7a-dbe7-4037-b4aa-c0e3334b79f1",
   "metadata": {},
   "outputs": [
    {
     "data": {
      "text/plain": [
       "(0.20584061908102447, 0.385437108848875)"
      ]
     },
     "execution_count": 42,
     "metadata": {},
     "output_type": "execute_result"
    }
   ],
   "source": [
    "mape(m,train_xs,train_y), mape(m,valid_xs,valid_y)"
   ]
  },
  {
   "cell_type": "markdown",
   "id": "dcd13934-07d7-49b2-8700-163057b832bd",
   "metadata": {},
   "source": [
    "Now the gap between the metric in the training set and the one in the validation set is not so large as before. \n",
    "\n",
    "## 8. Making a submission\n",
    "\n",
    "Apply the same data processing to the test set as the training set:\n",
    "\n",
    "- Create new features based on date column.\n",
    "- Indicate which are the categorical and continuous features.\n",
    "- `Categorify` to assign numerical codes to categorical variables.\n",
    "\n",
    "We are going to use the decision tree with 9916 leaves: "
   ]
  },
  {
   "cell_type": "code",
   "execution_count": 43,
   "id": "92a433bc-ac47-460c-9cd3-9df909f0b600",
   "metadata": {},
   "outputs": [],
   "source": [
    "df_test = add_datepart(df_test,\"date\")\n",
    "to_test = TabularPandas(df_test, procs, cat, cont)"
   ]
  },
  {
   "cell_type": "code",
   "execution_count": 44,
   "id": "9cc68e19-7277-4673-b946-b95c85895cc8",
   "metadata": {},
   "outputs": [],
   "source": [
    "test_xs = to_test.xs"
   ]
  },
  {
   "cell_type": "code",
   "execution_count": 45,
   "id": "b8b7e8db-4c1b-4de9-94a8-d8044b1769f4",
   "metadata": {},
   "outputs": [],
   "source": [
    "predictions = m.predict(test_xs)"
   ]
  },
  {
   "cell_type": "code",
   "execution_count": 46,
   "id": "53dcfc95-eb8f-402e-a93f-4205f8d763a4",
   "metadata": {},
   "outputs": [
    {
     "data": {
      "text/html": [
       "<div>\n",
       "<style scoped>\n",
       "    .dataframe tbody tr th:only-of-type {\n",
       "        vertical-align: middle;\n",
       "    }\n",
       "\n",
       "    .dataframe tbody tr th {\n",
       "        vertical-align: top;\n",
       "    }\n",
       "\n",
       "    .dataframe thead th {\n",
       "        text-align: right;\n",
       "    }\n",
       "</style>\n",
       "<table border=\"1\" class=\"dataframe\">\n",
       "  <thead>\n",
       "    <tr style=\"text-align: right;\">\n",
       "      <th></th>\n",
       "      <th>id</th>\n",
       "      <th>num_sold</th>\n",
       "    </tr>\n",
       "  </thead>\n",
       "  <tbody>\n",
       "    <tr>\n",
       "      <th>0</th>\n",
       "      <td>230130</td>\n",
       "      <td>605.000000</td>\n",
       "    </tr>\n",
       "    <tr>\n",
       "      <th>1</th>\n",
       "      <td>230131</td>\n",
       "      <td>889.000000</td>\n",
       "    </tr>\n",
       "    <tr>\n",
       "      <th>2</th>\n",
       "      <td>230132</td>\n",
       "      <td>822.800000</td>\n",
       "    </tr>\n",
       "    <tr>\n",
       "      <th>3</th>\n",
       "      <td>230133</td>\n",
       "      <td>458.947368</td>\n",
       "    </tr>\n",
       "    <tr>\n",
       "      <th>4</th>\n",
       "      <td>230134</td>\n",
       "      <td>534.388889</td>\n",
       "    </tr>\n",
       "  </tbody>\n",
       "</table>\n",
       "</div>"
      ],
      "text/plain": [
       "       id    num_sold\n",
       "0  230130  605.000000\n",
       "1  230131  889.000000\n",
       "2  230132  822.800000\n",
       "3  230133  458.947368\n",
       "4  230134  534.388889"
      ]
     },
     "execution_count": 46,
     "metadata": {},
     "output_type": "execute_result"
    }
   ],
   "source": [
    "submission = pd.DataFrame({\n",
    "    \"id\": df_test[\"id\"],\n",
    "    \"num_sold\": predictions\n",
    "})\n",
    "submission.head()"
   ]
  },
  {
   "cell_type": "code",
   "execution_count": 47,
   "id": "b642b15a-77a5-40a8-981e-6d43c51fd30f",
   "metadata": {},
   "outputs": [],
   "source": [
    "submission.to_csv(\"submission_decision_tree.csv\",index=False)"
   ]
  },
  {
   "cell_type": "markdown",
   "id": "6b165d4d-0694-42b1-897f-27cc2a15cab3",
   "metadata": {},
   "source": [
    "## 9. Improving Performance\n",
    "\n",
    "The model performs poorly in the test set (test MAPE (public score) around 3.0 or 300%), thus we have to revisit:\n",
    "\n",
    "- How the validation set was created and ensure it reflects the test set.\n",
    "- How the training set was created. Maybe we need to train with more data.\n",
    "- Model architecture and size. The next is to train a random forest. \n",
    "- How to handle the missing data in the dependent variable. Remember we only fill them with its median.\n",
    "\n",
    "## Final Thoughts\n",
    "\n",
    "Hopefully, you've seen the usefulness of fastai's tabular module for a quick data processing and learned a little bit about decission trees and how to train them with the scikit-learn library. See you next time!\n",
    "\n",
    "PS: An upvote 👍 to [my Kaggle notebook](https://www.kaggle.com/code/karensnchez/getting-started-with-decision-trees-using-fastai) will be awesome if you find it helpful 😃."
   ]
  }
 ],
 "metadata": {
  "kernelspec": {
   "display_name": "Python 3 (ipykernel)",
   "language": "python",
   "name": "python3"
  },
  "language_info": {
   "codemirror_mode": {
    "name": "ipython",
    "version": 3
   },
   "file_extension": ".py",
   "mimetype": "text/x-python",
   "name": "python",
   "nbconvert_exporter": "python",
   "pygments_lexer": "ipython3",
   "version": "3.12.2"
  }
 },
 "nbformat": 4,
 "nbformat_minor": 5
}
